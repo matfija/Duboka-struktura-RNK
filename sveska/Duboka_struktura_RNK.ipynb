{
 "cells": [
  {
   "cell_type": "markdown",
   "id": "711a21ee",
   "metadata": {},
   "source": [
    "## Predviđanje strukture *RNK*<a id=\"par:toc\"></a>"
   ]
  },
  {
   "cell_type": "markdown",
   "id": "d2cbbb40",
   "metadata": {},
   "source": [
    "U radu je razmotrena primena [probabilističkih kontekstno slobodnih gramatika](https://en.wikipedia.org/wiki/Probabilistic_context-free_grammar) (*PCFG*) i [konvolutivnih neuronskih mreža](https://en.wikipedia.org/wiki/Convolutional_neural_network) (*CNN*) u predviđanju sekundarne strukture [ribonukleinske kiseline](https://en.wikipedia.org/wiki/RNA) (*RNK*). Preuzet je skup *RNK* sa pridruženim strukturama, nakon čega je na delu podataka obučena po jedna stohastička gramatika i duboka konvolutivna mreža. Modeli su vrednovani prema uspehu na drugom delu podataka, odnosno sličnosti predviđanja sa stvarnošću."
   ]
  },
  {
   "cell_type": "markdown",
   "id": "9ca52088",
   "metadata": {},
   "source": [
    "## Sadržaj"
   ]
  },
  {
   "cell_type": "markdown",
   "id": "71f7ab6a",
   "metadata": {},
   "source": [
    "1. [Struktura *RNK*](#par:strukt)\n",
    "2. [Skup *RNAStralign*](#par:baza)"
   ]
  },
  {
   "cell_type": "markdown",
   "id": "1de6b6d0",
   "metadata": {},
   "source": [
    "## 1. Struktura *RNK* [⮭]<a id=\"par:strukt\"></a>\n",
    "\n",
    "[⮭]: #par:toc"
   ]
  },
  {
   "cell_type": "markdown",
   "id": "70aaa70a",
   "metadata": {},
   "source": [
    "*RNK* je biopolimer čiju [primarnu strukturu](https://en.wikipedia.org/wiki/Nucleic_acid_sequence) gradi niz [nukleobaza](https://en.wikipedia.org/wiki/Nucleobase). U sastav sekvence ulaze četiri kanonske nukleobaze – [adenin](https://en.wikipedia.org/wiki/Adenine), [uracil](https://en.wikipedia.org/wiki/Uracil), [guanin](https://en.wikipedia.org/wiki/Guanine) i [citozin](https://en.wikipedia.org/wiki/Cytosine). Računarski gledano, *RNK* se stoga najčešće predstavlja kao niska nad azbukom $\\{A, U, C, G\\}$, što je skup početnih slova navedenih baza."
   ]
  },
  {
   "cell_type": "markdown",
   "id": "7efebfb9",
   "metadata": {},
   "source": [
    "<img src='../slike/primarna.png' width='40%'>"
   ]
  },
  {
   "cell_type": "markdown",
   "id": "378f25bb",
   "metadata": {},
   "source": [
    "Specijalno, sekvencu mogu činiti i drugi karakteri, koji predstavljaju [modifikovane baze](https://en.wikipedia.org/wiki/Nucleobase#Modified_nucleobases). Tako, na primer, [pseudouridin](https://en.wikipedia.org/wiki/Pseudouridine) (*P*) predstavlja izmenjeni [uridin](https://en.wikipedia.org/wiki/Uridine) (*U*). Ovakva modifikovanost ne doprinosi problemu [predviđanja strukture](https://en.wikipedia.org/wiki/Nucleic_acid_structure_prediction) i najčešće se zanemaruje, te nije ni predstavljena u poznatim bazama podataka."
   ]
  },
  {
   "cell_type": "markdown",
   "id": "1f838827",
   "metadata": {},
   "source": [
    "Kako bi prešla u biološki aktivnu formu, *RNK* se [uvija intramolekularno](https://en.wikipedia.org/wiki/Nucleic_acid_structure), čime formira segmente uparenih nukleobaza. Takvi segmenti nazivaju se zavojnicama (*helix*) ili drškama (*stem*), dok nizovi neuparenih baza grade petlje (*loop*). U zavisnosti od oblika, postoji više različitih vrsta petlji: ukosnica (šnala, *hairpin*), unutrašnja (*interior*), razgranata (*multi-branched*), ispupčenje (*bulge*). Posebno se izdvaja i spoljašnji nestrukturirani lanac (*unstructured single strand*)."
   ]
  },
  {
   "cell_type": "markdown",
   "id": "0b5a7f66",
   "metadata": {},
   "source": [
    "<img src='../slike/sekundarna.png' width='70%'>"
   ]
  },
  {
   "cell_type": "markdown",
   "id": "eb629f26",
   "metadata": {},
   "source": [
    "Uvijanje se najčešće vizuelizuje u formi [grafa](https://en.wikipedia.org/wiki/Graph_%28discrete_mathematics%29), pri čemu su čvorovi baze, dok grane postoje između uparenih baza (označene kružićima ili lukovima), kao i između susednih elemenata sekvence (implicitne, neoznačene). Pored realističnog prikaza (*c*), popularni su i oni koji sekvencu predstavljaju na jednoj pravoj (*a*) ili na kružnici (*b*). Oni su značajni jer svedoče o ugnežđenosti uparivanja. Važan je i prikaz u formi matrice povezanosti (*d*), o čemu će biti reči u nastavku."
   ]
  },
  {
   "cell_type": "markdown",
   "id": "fbeccc93",
   "metadata": {},
   "source": [
    "<img src='../slike/vizuelizacija.png' width='90%'>"
   ]
  },
  {
   "cell_type": "markdown",
   "id": "d6cc076e",
   "metadata": {},
   "source": [
    "Ovako formirani [bazni parovi](https://en.wikipedia.org/wiki/Base_pair) upravo čine [sekundarnu strukturu](https://en.wikipedia.org/wiki/Nucleic_acid_secondary_structure) *RNK*. Parovi *A−U* i *G−C* pritom su kanonski (prema Votsonu i Kriku), mada su moguće i druge ([nekanonske](https://en.wikipedia.org/wiki/Non-canonical_base_pairing)) varijante uparivanja, pri čemu se kao treći posebno izdvaja nešto manje stabilan ([*wobble*](https://en.wikipedia.org/wiki/Wobble_base_pair)), ali i dalje termodinamički povoljan par *U−G*."
   ]
  },
  {
   "cell_type": "markdown",
   "id": "4d68a0d3",
   "metadata": {},
   "source": [
    "<img src='../slike/familija.png' width='60%'>"
   ]
  },
  {
   "cell_type": "markdown",
   "id": "3467f4b8",
   "metadata": {},
   "source": [
    "Osim u formi grafa ili prostog spiska parova, sekundarnu strukturu moguće je predstaviti i kao nisku, i to nad azbukom koja se sastoji od [tačke i zagrada](https://eprints.soton.ac.uk/267292/1/RamlanEI08ExtDotBracRNA.pdf). U ovakvoj notaciji, tačka predstavlja neuparenu bazu, dok zagrade označavaju parove. Uparivanje baza, očekivano, prati matematičko i jezičko pravilo uparivanja zagrada. Podrazumevano, niske koje predstavljaju primarnu (sekvencu) i sekundarnu (uparivanje) strukturu iste *RNK* moraju biti saglasne."
   ]
  },
  {
   "cell_type": "markdown",
   "id": "49227a2a",
   "metadata": {},
   "source": [
    "<img src='../slike/pseudocvor.png' width='40%'>"
   ]
  },
  {
   "cell_type": "markdown",
   "id": "033e52c8",
   "metadata": {},
   "source": [
    "U sastav sekundarne strukture ulazi nekoliko značajnih motiva. Posebno je zanimljiv strukturni motiv [ukosnice sa drškom](https://en.wikipedia.org/wiki/Stem-loop) (*stem-loop*), koji karakteriše sve ukosnice. Njegova važna odlika je da petlja sadrži najmanje tri baze, što je ograničenje koje je neophodno ugraditi u računarske metode. [Pseudočvorovi](https://en.wikipedia.org/wiki/Pseudoknot) su još jedna znamenita pojava, budući da predstavljaju neugnežđena uparivanja. Oni, međutim, zadiru u [tercijarnu](https://en.wikipedia.org/wiki/Nucleic_acid_tertiary_structure) i [kvaternarnu](https://en.wikipedia.org/wiki/Nucleic_acid_quaternary_structure) strukturu, koje nisu razmatrane."
   ]
  },
  {
   "cell_type": "markdown",
   "id": "ba988764",
   "metadata": {},
   "source": [
    "## 2. Skup *RNAStralign* [⮭]<a id=\"par:baza\"></a>\n",
    "\n",
    "[⮭]: #par:toc"
   ]
  },
  {
   "cell_type": "markdown",
   "id": "ca69879d",
   "metadata": {},
   "source": [
    "Manjak podataka o *RNK* dugo je pravio problem pri radu sa njima. Početkom 21. veka bilo je poznato tek nekoliko hiljada različitih sekvenci, kao i znatno manje struktura. Poslednjih godina, međutim, eksperimentalno je [utvrđen](https://en.wikipedia.org/wiki/Nucleic_acid_structure_determination) način uvijanja velikog broja novootkrivenih [nekodirajućih](https://en.wikipedia.org/wiki/Non-coding_RNA) ribonukleinskih kiselina."
   ]
  },
  {
   "cell_type": "markdown",
   "id": "5cc99eea",
   "metadata": {},
   "source": [
    "Trenutno najpoznatija baza *RNK* sa pridruženim strukturama jeste skup podataka *RNAStralign*, objavljen 2017. godine u okviru rada [*TurboFold II: RNA structural alignment and secondary structure prediction informed by multiple homologs*](https://pubmed.ncbi.nlm.nih.gov/29036420/). Ovaj skup sadrži $37.149$ struktura iz osam različitih familija *RNK* − [*16S*](https://en.wikipedia.org/wiki/16S_ribosomal_RNA) ribozomalne, [*5S*](https://en.wikipedia.org/wiki/5S_ribosomal_RNA) ribozomalne, [katalitički introni](https://en.wikipedia.org/wiki/Group_I_catalytic_intron) (*Group I Intron*), [ribonukleaze](https://en.wikipedia.org/wiki/Ribonuclease_P) (*RNaseP*), [signalne](https://en.wikipedia.org/wiki/Signal_recognition_particle_RNA) (*SRP*), [telomeraze](https://en.wikipedia.org/wiki/Telomerase), [transportno-informacione](https://en.wikipedia.org/wiki/Transfer-messenger_RNA) (*tmRNA*), [transportne](https://en.wikipedia.org/wiki/Transfer_RNA) (*tRNA*) − čija dužina varira od nekoliko desetina do skoro dve hiljade nukleobaza. Dužina, struktura i familija inače su u tesnoj vezi."
   ]
  },
  {
   "cell_type": "markdown",
   "id": "664bf144",
   "metadata": {},
   "source": [
    "Skup *RNAStralign* sadrži identifikator sekvence, samu sekvencu, njenu familiju, kao i strukturu u obliku niza uparivanja, pri čemu indeks $j$ kao $i$-ti element niza svedoči o postojanju uparivanja $(i, j)$. Ukoliko postoji uparivanje $(i, j)$ postoji i obrnuto $(j, i)$ koje je isto. U slučaju $i = j$, baza je neuparena. Iako vrlo koristan, ovaj skup sadrži redundantne podatke. Postoje, naime, suštinski ponovljene strukture, budući da se ista ili slična *RNK* pojavljuje u više organizama. Zbog toga se pristupa uklanjanju redundantnosti kao vidu čišćenja podataka, nakon čega ostaje $30.451$ instanci. Na ovaj način dobija se [standardni](https://en.wikipedia.org/wiki/Benchmark_%28computing%29) (*benchmark*) skup, uveden u radu [*RNA Secondary Structure Prediction By Learning Unrolled Algorithms*](https://arxiv.org/abs/2002.05810) (*E2Efold*) iz 2020, a koji se koristi za upoređivanje različitih pristupa."
   ]
  },
  {
   "cell_type": "markdown",
   "id": "3a49644f",
   "metadata": {},
   "source": [
    "Dodatnim zanemarivanjem nepotpunih sekvenci, čija struktura nije precizno određena, dobija se konačan broj od $28.473$ slogova. Pomenuti rad preporučuje [podelu](https://en.wikipedia.org/wiki/Training,_validation,_and_test_data_sets) na skupove za obučavanje (trening), proveru (test) i validaciju u približnom odnosu $80\\%−10\\%−10\\%$, i to [stratifikovanu](https://en.wikipedia.org/wiki/Stratified_sampling) prema familiji. Štaviše, oni su dostupni kao tri datoteke u formatu zapetom razdvojenih vrednosti, pa se u nastavku sveske koriste kao `train.csv`, `test.csv` i `valid.csv`. Sledi implementacija klase koja enkapsulira *RNK* sekvencu sa pridruženim identifikatorom, familijom, strukturom i može da je nacrta, kao i učitavanje podataka."
   ]
  },
  {
   "cell_type": "code",
   "execution_count": 1,
   "id": "aa0a8791",
   "metadata": {},
   "outputs": [],
   "source": [
    "# Biblioteka za crtanje\n",
    "from ipynb.draw import draw_struct\n",
    "\n",
    "# Biblioteka za vizuelizacije\n",
    "from matplotlib import pyplot as plt"
   ]
  },
  {
   "cell_type": "code",
   "execution_count": 2,
   "id": "79a109fc",
   "metadata": {},
   "outputs": [],
   "source": [
    "# Klasa koja predstavlja RNK\n",
    "class RNK:\n",
    "    # Konstrukcija objekta prema podacima\n",
    "    def __init__(self, identifikator, sekvenca, familija, *uparivanje):\n",
    "        self.id = identifikator\n",
    "        self.sekvenca = sekvenca\n",
    "        self.familija = familija\n",
    "        self.uparivanje = [*map(int, uparivanje)]\n",
    "        \n",
    "        # Inicijalizacija strukture\n",
    "        struktura = len(sekvenca) * ['.']\n",
    "        \n",
    "        # Popunjavanje strukture uparivanjima\n",
    "        for i, j in enumerate(self.uparivanje):\n",
    "            if i < j:\n",
    "                struktura[i] = '('\n",
    "                struktura[j] = ')'\n",
    "        \n",
    "        # Spajanje strukture u jednu nisku\n",
    "        self.struktura = ''.join(struktura)\n",
    "    \n",
    "    # Crtanje enkapsulirane sekundarne strukture\n",
    "    def _ipython_display_(self):\n",
    "        draw_struct(self.sekvenca, self.struktura, ax=plt.gca())\n",
    "        \n",
    "        # Dodavanje naslova ilustraciji\n",
    "        plt.title('\\n'.join([f'{self.id} [{self.familija}]', self.sekvenca,\n",
    "                             self.struktura]), fontdict={'family': 'monospace'})\n",
    "        \n",
    "        # Sređivanje grafikona\n",
    "        plt.tight_layout()"
   ]
  },
  {
   "cell_type": "code",
   "execution_count": 3,
   "id": "99dc4450",
   "metadata": {},
   "outputs": [],
   "source": [
    "# Učitavanje podataka iz datoteke\n",
    "def učitaj(datoteka):\n",
    "    with open(datoteka) as f:\n",
    "        return [RNK(*l.split(',')) for l in f.readlines()]"
   ]
  },
  {
   "cell_type": "code",
   "execution_count": 4,
   "id": "9f9776a3",
   "metadata": {},
   "outputs": [],
   "source": [
    "# Učitavanje skupova sa diska\n",
    "train = učitaj('../podaci/train.csv')\n",
    "test = učitaj('../podaci/test.csv')\n",
    "valid = učitaj('../podaci/valid.csv')"
   ]
  }
 ],
 "metadata": {
  "kernelspec": {
   "display_name": "Python 3 (ipykernel)",
   "language": "python",
   "name": "python3"
  },
  "language_info": {
   "codemirror_mode": {
    "name": "ipython",
    "version": 3
   },
   "file_extension": ".py",
   "mimetype": "text/x-python",
   "name": "python",
   "nbconvert_exporter": "python",
   "pygments_lexer": "ipython3",
   "version": "3.9.7"
  }
 },
 "nbformat": 4,
 "nbformat_minor": 5
}
